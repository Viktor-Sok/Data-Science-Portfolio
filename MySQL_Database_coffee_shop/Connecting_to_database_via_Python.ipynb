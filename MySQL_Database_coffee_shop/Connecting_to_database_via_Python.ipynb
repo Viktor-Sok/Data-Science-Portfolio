{
 "cells": [
  {
   "cell_type": "markdown",
   "metadata": {},
   "source": [
    "# Connecting to coffee_shop database using MySQL Connector/Python"
   ]
  },
  {
   "cell_type": "code",
   "execution_count": 1,
   "metadata": {
    "scrolled": true
   },
   "outputs": [
    {
     "name": "stdout",
     "output_type": "stream",
     "text": [
      "Collecting mysql-connector-python\n",
      "  Downloading mysql_connector_python-8.0.26-cp38-cp38-manylinux1_x86_64.whl (30.9 MB)\n",
      "\u001b[K     |████████████████████████████████| 30.9 MB 95 kB/s  eta 0:00:01     |████████████▍                   | 12.0 MB 640 kB/s eta 0:00:30     |█████████████████████▊          | 21.0 MB 242 kB/s eta 0:00:41\n",
      "\u001b[?25hCollecting protobuf>=3.0.0\n",
      "  Downloading protobuf-3.17.3-cp38-cp38-manylinux_2_5_x86_64.manylinux1_x86_64.whl (1.0 MB)\n",
      "\u001b[K     |████████████████████████████████| 1.0 MB 330 kB/s eta 0:00:01\n",
      "\u001b[?25hRequirement already satisfied: six>=1.9 in /home/h123456/anaconda3/lib/python3.8/site-packages (from protobuf>=3.0.0->mysql-connector-python) (1.15.0)\n",
      "Installing collected packages: protobuf, mysql-connector-python\n",
      "Successfully installed mysql-connector-python-8.0.26 protobuf-3.17.3\n"
     ]
    }
   ],
   "source": [
    "# installing mysql-connector (MySQL-server versions prior to 4.1 will not work)\n",
    "!pip install mysql-connector-python"
   ]
  },
  {
   "cell_type": "code",
   "execution_count": 2,
   "metadata": {},
   "outputs": [],
   "source": [
    "import mysql.connector as sql"
   ]
  },
  {
   "cell_type": "code",
   "execution_count": 3,
   "metadata": {},
   "outputs": [
    {
     "name": "stdout",
     "output_type": "stream",
     "text": [
      "8.0.26\n"
     ]
    }
   ],
   "source": [
    "# version of mysql-connector\n",
    "print(sql.__version__)"
   ]
  },
  {
   "cell_type": "code",
   "execution_count": 33,
   "metadata": {},
   "outputs": [],
   "source": [
    "# establish connection to a database\n",
    "conn = sql.connect(user='root', password='_Abc475459328abC_',\n",
    "                              host='127.0.0.1',\n",
    "                              database='coffee_shop')"
   ]
  },
  {
   "cell_type": "code",
   "execution_count": 34,
   "metadata": {},
   "outputs": [],
   "source": [
    "# querying data examples\n",
    "cursor = conn.cursor() # cursor object to navigate through a database\n",
    "query1 = (\"SHOW TABLES;\")\n",
    "cursor.execute(query1)"
   ]
  },
  {
   "cell_type": "code",
   "execution_count": 35,
   "metadata": {
    "scrolled": true
   },
   "outputs": [
    {
     "name": "stdout",
     "output_type": "stream",
     "text": [
      "('customer',)\n",
      "('product',)\n",
      "('product_info_view',)\n",
      "('product_type',)\n",
      "('sales_detail',)\n",
      "('sales_outlet',)\n",
      "('sales_transaction',)\n",
      "('staff',)\n",
      "('staff_locations_view',)\n"
     ]
    }
   ],
   "source": [
    "# iterating through the query result\n",
    "for row in cursor:\n",
    "  print(row)"
   ]
  },
  {
   "cell_type": "code",
   "execution_count": 36,
   "metadata": {
    "scrolled": true
   },
   "outputs": [
    {
     "name": "stdout",
     "output_type": "stream",
     "text": [
      "('customer_id', 'int(11)', 'NO', 'PRI', None, '')\n",
      "('customer_name', 'varchar(50)', 'YES', '', None, '')\n",
      "('email', 'varchar(50)', 'YES', '', None, '')\n",
      "('reg_date', 'date', 'YES', '', None, '')\n",
      "('card_number', 'varchar(15)', 'YES', '', None, '')\n",
      "('date_of_birth', 'date', 'YES', '', None, '')\n",
      "('gender', 'char(1)', 'YES', '', None, '')\n"
     ]
    }
   ],
   "source": [
    "query2 = \"DESCRIBE customer;\"\n",
    "cursor.execute(query2)\n",
    "for row in cursor:\n",
    "  print(row)\n"
   ]
  },
  {
   "cell_type": "code",
   "execution_count": 38,
   "metadata": {},
   "outputs": [
    {
     "name": "stdout",
     "output_type": "stream",
     "text": [
      "('Kelly Key', 'Venus@adipiscing.edu', datetime.date(1950, 5, 29))\n",
      "('Clark Schroeder', 'Nora@fames.gov', datetime.date(1950, 7, 30))\n",
      "('Elvis Cardenas', 'Brianna@tellus.edu', datetime.date(1950, 9, 30))\n",
      "('Rafael Estes', 'Ina@non.gov', datetime.date(1950, 12, 1))\n",
      "('Colin Lynn', 'Dale@Integer.com', datetime.date(1951, 2, 1))\n"
     ]
    }
   ],
   "source": [
    "query3 = \"SELECT customer_name, email, date_of_birth FROM customer LIMIT 1,5;\"\n",
    "cursor.execute(query3)\n",
    "for row in cursor:\n",
    "    print(row)\n",
    "  "
   ]
  },
  {
   "cell_type": "code",
   "execution_count": 39,
   "metadata": {},
   "outputs": [],
   "source": [
    "# releasing resources\n",
    "cursor.close()\n",
    "conn.close()"
   ]
  }
 ],
 "metadata": {
  "kernelspec": {
   "display_name": "Python 3",
   "language": "python",
   "name": "python3"
  },
  "language_info": {
   "codemirror_mode": {
    "name": "ipython",
    "version": 3
   },
   "file_extension": ".py",
   "mimetype": "text/x-python",
   "name": "python",
   "nbconvert_exporter": "python",
   "pygments_lexer": "ipython3",
   "version": "3.8.5"
  }
 },
 "nbformat": 4,
 "nbformat_minor": 4
}
